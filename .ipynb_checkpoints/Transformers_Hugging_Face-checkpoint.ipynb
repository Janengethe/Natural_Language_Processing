{
 "cells": [
  {
   "cell_type": "markdown",
   "id": "39929686-16ff-48ef-b011-3e896cc2d0ed",
   "metadata": {},
   "source": [
    "## Task 1: Sentiment Analysis\n",
    "* Install the transformers library if you haven't already: pip install transformers\n",
    "* Import the pipeline function from the transformers library.\n",
    "* Initialize a sentiment analysis pipeline.\n",
    "* Use the pipeline to classify the sentiment of the following text samples:\n",
    "    * \"I love using the Hugging Face library!\"\n",
    "    * \"I'm not very fond of this movie.\"\n",
    "    * \"The weather is terrible today.\"\n",
    "* Print the results, including the label (positive or negative) and the confidence score."
   ]
  },
  {
   "cell_type": "code",
   "execution_count": 1,
   "id": "1a91313a-9623-46e3-b060-8d2cc4679ddc",
   "metadata": {},
   "outputs": [
    {
     "name": "stdout",
     "output_type": "stream",
     "text": [
      "Collecting transformers\n",
      "  Downloading transformers-4.34.1-py3-none-any.whl (7.7 MB)\n",
      "\u001b[K     |████████████████████████████████| 7.7 MB 42 kB/s eta 0:00:010     |███████████████████████████     | 6.6 MB 25 kB/s eta 0:00:47\n",
      "\u001b[?25hCollecting tqdm>=4.27\n",
      "  Downloading tqdm-4.66.1-py3-none-any.whl (78 kB)\n",
      "\u001b[K     |████████████████████████████████| 78 kB 24 kB/s eta 0:00:01\n",
      "\u001b[?25hRequirement already satisfied: pyyaml>=5.1 in /usr/lib/python3/dist-packages (from transformers) (5.3.1)\n",
      "Requirement already satisfied: packaging>=20.0 in /home/jane/.local/lib/python3.8/site-packages (from transformers) (23.1)\n",
      "Collecting filelock\n",
      "  Downloading filelock-3.12.4-py3-none-any.whl (11 kB)\n",
      "Collecting tokenizers<0.15,>=0.14\n",
      "  Downloading tokenizers-0.14.1-cp38-cp38-manylinux_2_17_x86_64.manylinux2014_x86_64.whl (3.8 MB)\n",
      "\u001b[K     |████████████████████████████████| 3.8 MB 12 kB/s eta 0:00:01     |█████████████████████████████   | 3.4 MB 26 kB/s eta 0:00:14\n",
      "\u001b[?25hCollecting huggingface-hub<1.0,>=0.16.4\n",
      "  Downloading huggingface_hub-0.18.0-py3-none-any.whl (301 kB)\n",
      "\u001b[K     |████████████████████████████████| 301 kB 39 kB/s eta 0:00:01\n",
      "\u001b[?25hRequirement already satisfied: numpy>=1.17 in /home/jane/.local/lib/python3.8/site-packages (from transformers) (1.24.3)\n",
      "Requirement already satisfied: requests in /home/jane/.local/lib/python3.8/site-packages (from transformers) (2.31.0)\n",
      "Collecting safetensors>=0.3.1\n",
      "  Downloading safetensors-0.4.0-cp38-cp38-manylinux_2_17_x86_64.manylinux2014_x86_64.whl (1.3 MB)\n",
      "\u001b[K     |████████████████████████████████| 1.3 MB 35 kB/s eta 0:00:01     |█████████████████▌              | 737 kB 22 kB/s eta 0:00:27\n",
      "\u001b[?25hCollecting regex!=2019.12.17\n",
      "  Downloading regex-2023.10.3-cp38-cp38-manylinux_2_17_x86_64.manylinux2014_x86_64.whl (776 kB)\n",
      "\u001b[K     |████████████████████████████████| 776 kB 27 kB/s eta 0:00:01\n",
      "\u001b[?25hRequirement already satisfied: typing-extensions>=3.7.4.3 in /home/jane/.local/lib/python3.8/site-packages (from huggingface-hub<1.0,>=0.16.4->transformers) (4.5.0)\n",
      "Collecting fsspec>=2023.5.0\n",
      "  Downloading fsspec-2023.10.0-py3-none-any.whl (166 kB)\n",
      "\u001b[K     |████████████████████████████████| 166 kB 14 kB/s eta 0:00:01\n",
      "\u001b[?25hRequirement already satisfied: charset-normalizer<4,>=2 in /home/jane/.local/lib/python3.8/site-packages (from requests->transformers) (3.2.0)\n",
      "Requirement already satisfied: urllib3<3,>=1.21.1 in /usr/lib/python3/dist-packages (from requests->transformers) (1.25.8)\n",
      "Requirement already satisfied: certifi>=2017.4.17 in /usr/lib/python3/dist-packages (from requests->transformers) (2019.11.28)\n",
      "Requirement already satisfied: idna<4,>=2.5 in /usr/lib/python3/dist-packages (from requests->transformers) (2.8)\n",
      "\u001b[31mERROR: tokenizers 0.14.1 has requirement huggingface_hub<0.18,>=0.16.4, but you'll have huggingface-hub 0.18.0 which is incompatible.\u001b[0m\n",
      "Installing collected packages: tqdm, filelock, fsspec, huggingface-hub, tokenizers, safetensors, regex, transformers\n",
      "Successfully installed filelock-3.12.4 fsspec-2023.10.0 huggingface-hub-0.18.0 regex-2023.10.3 safetensors-0.4.0 tokenizers-0.14.1 tqdm-4.66.1 transformers-4.34.1\n",
      "Note: you may need to restart the kernel to use updated packages.\n"
     ]
    }
   ],
   "source": [
    "pip install transformers"
   ]
  },
  {
   "cell_type": "code",
   "execution_count": null,
   "id": "ee5fd551-b453-47dd-a2c6-70f3caff29ec",
   "metadata": {},
   "outputs": [],
   "source": []
  }
 ],
 "metadata": {
  "kernelspec": {
   "display_name": "Python 3 (ipykernel)",
   "language": "python",
   "name": "python3"
  },
  "language_info": {
   "codemirror_mode": {
    "name": "ipython",
    "version": 3
   },
   "file_extension": ".py",
   "mimetype": "text/x-python",
   "name": "python",
   "nbconvert_exporter": "python",
   "pygments_lexer": "ipython3",
   "version": "3.8.10"
  }
 },
 "nbformat": 4,
 "nbformat_minor": 5
}
